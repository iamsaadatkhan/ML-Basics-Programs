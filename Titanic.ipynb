{
  "nbformat": 4,
  "nbformat_minor": 0,
  "metadata": {
    "colab": {
      "name": "Titanic.ipynb",
      "provenance": []
    },
    "kernelspec": {
      "name": "python3",
      "display_name": "Python 3"
    }
  },
  "cells": [
    {
      "cell_type": "code",
      "metadata": {
        "id": "sSylIKvBIU2b",
        "colab_type": "code",
        "colab": {}
      },
      "source": [
        "!pip install -q sklearn"
      ],
      "execution_count": 0,
      "outputs": []
    },
    {
      "cell_type": "code",
      "metadata": {
        "id": "I7mWnjw2Id18",
        "colab_type": "code",
        "colab": {}
      },
      "source": [
        "%tensorflow_version 2.x"
      ],
      "execution_count": 0,
      "outputs": []
    },
    {
      "cell_type": "code",
      "metadata": {
        "id": "bZhOocp8ImFe",
        "colab_type": "code",
        "colab": {}
      },
      "source": [
        "from __future__ import absolute_import , division , print_function , unicode_literals\n",
        "\n",
        "import numpy as np\n",
        "import pandas as pd\n",
        "import matplotlib.pyplot as plt\n",
        "from six.moves import urllib\n",
        "import tensorflow.compat.v2.feature_column as fc\n",
        "import tensorflow as tf\n"
      ],
      "execution_count": 0,
      "outputs": []
    },
    {
      "cell_type": "code",
      "metadata": {
        "id": "rVUz4G_vJNej",
        "colab_type": "code",
        "colab": {}
      },
      "source": [
        "dftrain = pd.read_csv('https://storage.googleapis.com/tf-datasets/titanic/train.csv')\n",
        "dftest = pd.read_csv('https://storage.googleapis.com/tf-datasets/titanic/eval.csv')"
      ],
      "execution_count": 0,
      "outputs": []
    },
    {
      "cell_type": "code",
      "metadata": {
        "id": "3m-UxUBgK1aW",
        "colab_type": "code",
        "colab": {}
      },
      "source": [
        "y_train = dftrain.pop('survived')\n",
        "y_test = dftest.pop('survived')"
      ],
      "execution_count": 0,
      "outputs": []
    },
    {
      "cell_type": "code",
      "metadata": {
        "id": "G04k5Z2qLAyp",
        "colab_type": "code",
        "colab": {}
      },
      "source": [
        "CATEGORICAL_COLUMNS = ['sex' , 'n_siblings_spouses' , 'parch' , 'class' , 'deck' , 'embark_town' , 'alone']\n",
        "NUMERIC_COLUMNS = ['age' , 'fare']\n",
        "\n",
        "feature_column = []\n",
        "\n",
        "for feature_name in CATEGORICAL_COLUMNS:\n",
        "  vocabulary = dftrain[feature_name].unique()\n",
        "  feature_column.append(tf.feature_column.categorical_column_with_vocabulary_list(feature_name , vocabulary))\n",
        "\n",
        "for feature_name in NUMERIC_COLUMNS:\n",
        "  feature_column.append(tf.feature_column.numeric_column(feature_name , dtype=tf.float32))\n",
        "\n",
        "display(feature_column)\n"
      ],
      "execution_count": 0,
      "outputs": []
    },
    {
      "cell_type": "code",
      "metadata": {
        "id": "30EHN28bu69e",
        "colab_type": "code",
        "colab": {}
      },
      "source": [
        "def make_input_fn(data_df , label_df , num_epochs=10 ,shuffle=True , batch_size=32):\n",
        "  def input_funtion():\n",
        "    ds = tf.data.Dataset.from_tensor_slices((dict(data_df) , label_df)) #convert data into 1d data\n",
        "    if shuffle:\n",
        "      ds = ds.shuffle(1000)\n",
        "    ds = ds.batch(batch_size).repeat(num_epochs) #repeating epochs to all batches \n",
        "    return ds\n",
        "  return input_funtion"
      ],
      "execution_count": 0,
      "outputs": []
    },
    {
      "cell_type": "code",
      "metadata": {
        "id": "ffPKW9pw67nh",
        "colab_type": "code",
        "colab": {}
      },
      "source": [
        "train_input_fn = make_input_fn(dftrain , y_train)\n",
        "test_input_fn = make_input_fn(dftest , y_test , num_epochs=1 , shuffle=False)"
      ],
      "execution_count": 0,
      "outputs": []
    },
    {
      "cell_type": "code",
      "metadata": {
        "id": "zOFrVA38767y",
        "colab_type": "code",
        "colab": {}
      },
      "source": [
        "linear_est = tf.estimator.LinearClassifier(feature_columns=feature_column)\n",
        "linear_est.train(train_input_fn)\n",
        "result=linear_est.evaluate(test_input_fn)"
      ],
      "execution_count": 0,
      "outputs": []
    },
    {
      "cell_type": "code",
      "metadata": {
        "id": "TPxKRztGDUZ7",
        "colab_type": "code",
        "colab": {
          "base_uri": "https://localhost:8080/",
          "height": 34
        },
        "outputId": "ce9b6f31-9dba-4c0c-ba54-8240c5f4e844"
      },
      "source": [
        "print(result['accuracy'])"
      ],
      "execution_count": 33,
      "outputs": [
        {
          "output_type": "stream",
          "text": [
            "0.7689394\n"
          ],
          "name": "stdout"
        }
      ]
    },
    {
      "cell_type": "code",
      "metadata": {
        "id": "CsTzvEauDbN5",
        "colab_type": "code",
        "colab": {
          "base_uri": "https://localhost:8080/",
          "height": 264
        },
        "outputId": "69fae808-aa03-49ab-e987-f2e659cf5f8f"
      },
      "source": [
        "result = list(linear_est.predict(test_input_fn))\n",
        "print(result[0]['probabilities'][0])"
      ],
      "execution_count": 36,
      "outputs": [
        {
          "output_type": "stream",
          "text": [
            "INFO:tensorflow:Calling model_fn.\n",
            "WARNING:tensorflow:Layer linear/linear_model is casting an input tensor from dtype float64 to the layer's dtype of float32, which is new behavior in TensorFlow 2.  The layer has dtype float32 because it's dtype defaults to floatx.\n",
            "\n",
            "If you intended to run this layer in float32, you can safely ignore this warning. If in doubt, this warning is likely only an issue if you are porting a TensorFlow 1.X model to TensorFlow 2.\n",
            "\n",
            "To change all layers to have dtype float64 by default, call `tf.keras.backend.set_floatx('float64')`. To change just this layer, pass dtype='float64' to the layer constructor. If you are the author of this layer, you can disable autocasting by passing autocast=False to the base Layer constructor.\n",
            "\n",
            "INFO:tensorflow:Done calling model_fn.\n",
            "INFO:tensorflow:Graph was finalized.\n",
            "INFO:tensorflow:Restoring parameters from /tmp/tmp2dcmn_pg/model.ckpt-200\n",
            "INFO:tensorflow:Running local_init_op.\n",
            "INFO:tensorflow:Done running local_init_op.\n",
            "0.9334873\n"
          ],
          "name": "stdout"
        }
      ]
    },
    {
      "cell_type": "code",
      "metadata": {
        "id": "i70nSgXeIX_U",
        "colab_type": "code",
        "colab": {}
      },
      "source": [
        ""
      ],
      "execution_count": 0,
      "outputs": []
    }
  ]
}